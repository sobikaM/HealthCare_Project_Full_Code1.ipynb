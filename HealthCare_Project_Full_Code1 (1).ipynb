{
  "nbformat": 4,
  "nbformat_minor": 0,
  "metadata": {
    "colab": {
      "provenance": []
    },
    "kernelspec": {
      "name": "python3",
      "display_name": "Python 3"
    },
    "language_info": {
      "name": "python"
    }
  },
  "cells": [
    {
      "cell_type": "code",
      "execution_count": 1,
      "metadata": {
        "colab": {
          "base_uri": "https://localhost:8080/",
          "height": 73
        },
        "id": "UBixxUnAh_DJ",
        "outputId": "c4444d01-a92a-4d5f-cc8b-c12d67beec27"
      },
      "outputs": [
        {
          "output_type": "display_data",
          "data": {
            "text/plain": [
              "<IPython.core.display.HTML object>"
            ],
            "text/html": [
              "\n",
              "     <input type=\"file\" id=\"files-49ff92f2-5e19-40bc-bba5-79d62da0c477\" name=\"files[]\" multiple disabled\n",
              "        style=\"border:none\" />\n",
              "     <output id=\"result-49ff92f2-5e19-40bc-bba5-79d62da0c477\">\n",
              "      Upload widget is only available when the cell has been executed in the\n",
              "      current browser session. Please rerun this cell to enable.\n",
              "      </output>\n",
              "      <script>// Copyright 2017 Google LLC\n",
              "//\n",
              "// Licensed under the Apache License, Version 2.0 (the \"License\");\n",
              "// you may not use this file except in compliance with the License.\n",
              "// You may obtain a copy of the License at\n",
              "//\n",
              "//      http://www.apache.org/licenses/LICENSE-2.0\n",
              "//\n",
              "// Unless required by applicable law or agreed to in writing, software\n",
              "// distributed under the License is distributed on an \"AS IS\" BASIS,\n",
              "// WITHOUT WARRANTIES OR CONDITIONS OF ANY KIND, either express or implied.\n",
              "// See the License for the specific language governing permissions and\n",
              "// limitations under the License.\n",
              "\n",
              "/**\n",
              " * @fileoverview Helpers for google.colab Python module.\n",
              " */\n",
              "(function(scope) {\n",
              "function span(text, styleAttributes = {}) {\n",
              "  const element = document.createElement('span');\n",
              "  element.textContent = text;\n",
              "  for (const key of Object.keys(styleAttributes)) {\n",
              "    element.style[key] = styleAttributes[key];\n",
              "  }\n",
              "  return element;\n",
              "}\n",
              "\n",
              "// Max number of bytes which will be uploaded at a time.\n",
              "const MAX_PAYLOAD_SIZE = 100 * 1024;\n",
              "\n",
              "function _uploadFiles(inputId, outputId) {\n",
              "  const steps = uploadFilesStep(inputId, outputId);\n",
              "  const outputElement = document.getElementById(outputId);\n",
              "  // Cache steps on the outputElement to make it available for the next call\n",
              "  // to uploadFilesContinue from Python.\n",
              "  outputElement.steps = steps;\n",
              "\n",
              "  return _uploadFilesContinue(outputId);\n",
              "}\n",
              "\n",
              "// This is roughly an async generator (not supported in the browser yet),\n",
              "// where there are multiple asynchronous steps and the Python side is going\n",
              "// to poll for completion of each step.\n",
              "// This uses a Promise to block the python side on completion of each step,\n",
              "// then passes the result of the previous step as the input to the next step.\n",
              "function _uploadFilesContinue(outputId) {\n",
              "  const outputElement = document.getElementById(outputId);\n",
              "  const steps = outputElement.steps;\n",
              "\n",
              "  const next = steps.next(outputElement.lastPromiseValue);\n",
              "  return Promise.resolve(next.value.promise).then((value) => {\n",
              "    // Cache the last promise value to make it available to the next\n",
              "    // step of the generator.\n",
              "    outputElement.lastPromiseValue = value;\n",
              "    return next.value.response;\n",
              "  });\n",
              "}\n",
              "\n",
              "/**\n",
              " * Generator function which is called between each async step of the upload\n",
              " * process.\n",
              " * @param {string} inputId Element ID of the input file picker element.\n",
              " * @param {string} outputId Element ID of the output display.\n",
              " * @return {!Iterable<!Object>} Iterable of next steps.\n",
              " */\n",
              "function* uploadFilesStep(inputId, outputId) {\n",
              "  const inputElement = document.getElementById(inputId);\n",
              "  inputElement.disabled = false;\n",
              "\n",
              "  const outputElement = document.getElementById(outputId);\n",
              "  outputElement.innerHTML = '';\n",
              "\n",
              "  const pickedPromise = new Promise((resolve) => {\n",
              "    inputElement.addEventListener('change', (e) => {\n",
              "      resolve(e.target.files);\n",
              "    });\n",
              "  });\n",
              "\n",
              "  const cancel = document.createElement('button');\n",
              "  inputElement.parentElement.appendChild(cancel);\n",
              "  cancel.textContent = 'Cancel upload';\n",
              "  const cancelPromise = new Promise((resolve) => {\n",
              "    cancel.onclick = () => {\n",
              "      resolve(null);\n",
              "    };\n",
              "  });\n",
              "\n",
              "  // Wait for the user to pick the files.\n",
              "  const files = yield {\n",
              "    promise: Promise.race([pickedPromise, cancelPromise]),\n",
              "    response: {\n",
              "      action: 'starting',\n",
              "    }\n",
              "  };\n",
              "\n",
              "  cancel.remove();\n",
              "\n",
              "  // Disable the input element since further picks are not allowed.\n",
              "  inputElement.disabled = true;\n",
              "\n",
              "  if (!files) {\n",
              "    return {\n",
              "      response: {\n",
              "        action: 'complete',\n",
              "      }\n",
              "    };\n",
              "  }\n",
              "\n",
              "  for (const file of files) {\n",
              "    const li = document.createElement('li');\n",
              "    li.append(span(file.name, {fontWeight: 'bold'}));\n",
              "    li.append(span(\n",
              "        `(${file.type || 'n/a'}) - ${file.size} bytes, ` +\n",
              "        `last modified: ${\n",
              "            file.lastModifiedDate ? file.lastModifiedDate.toLocaleDateString() :\n",
              "                                    'n/a'} - `));\n",
              "    const percent = span('0% done');\n",
              "    li.appendChild(percent);\n",
              "\n",
              "    outputElement.appendChild(li);\n",
              "\n",
              "    const fileDataPromise = new Promise((resolve) => {\n",
              "      const reader = new FileReader();\n",
              "      reader.onload = (e) => {\n",
              "        resolve(e.target.result);\n",
              "      };\n",
              "      reader.readAsArrayBuffer(file);\n",
              "    });\n",
              "    // Wait for the data to be ready.\n",
              "    let fileData = yield {\n",
              "      promise: fileDataPromise,\n",
              "      response: {\n",
              "        action: 'continue',\n",
              "      }\n",
              "    };\n",
              "\n",
              "    // Use a chunked sending to avoid message size limits. See b/62115660.\n",
              "    let position = 0;\n",
              "    do {\n",
              "      const length = Math.min(fileData.byteLength - position, MAX_PAYLOAD_SIZE);\n",
              "      const chunk = new Uint8Array(fileData, position, length);\n",
              "      position += length;\n",
              "\n",
              "      const base64 = btoa(String.fromCharCode.apply(null, chunk));\n",
              "      yield {\n",
              "        response: {\n",
              "          action: 'append',\n",
              "          file: file.name,\n",
              "          data: base64,\n",
              "        },\n",
              "      };\n",
              "\n",
              "      let percentDone = fileData.byteLength === 0 ?\n",
              "          100 :\n",
              "          Math.round((position / fileData.byteLength) * 100);\n",
              "      percent.textContent = `${percentDone}% done`;\n",
              "\n",
              "    } while (position < fileData.byteLength);\n",
              "  }\n",
              "\n",
              "  // All done.\n",
              "  yield {\n",
              "    response: {\n",
              "      action: 'complete',\n",
              "    }\n",
              "  };\n",
              "}\n",
              "\n",
              "scope.google = scope.google || {};\n",
              "scope.google.colab = scope.google.colab || {};\n",
              "scope.google.colab._files = {\n",
              "  _uploadFiles,\n",
              "  _uploadFilesContinue,\n",
              "};\n",
              "})(self);\n",
              "</script> "
            ]
          },
          "metadata": {}
        },
        {
          "output_type": "stream",
          "name": "stdout",
          "text": [
            "Saving diabetes.csv to diabetes.csv\n"
          ]
        }
      ],
      "source": [
        "from google.colab import files\n",
        "import pandas as pd\n",
        "import io\n",
        "import numpy as np\n",
        "\n",
        "uploaded = files.upload()\n",
        "filename = next(iter(uploaded))\n",
        "df = pd.read_csv(io.BytesIO(uploaded[filename]))"
      ]
    },
    {
      "cell_type": "code",
      "source": [
        "df[['Glucose','BloodPressure','SkinThickness','Insulin','BMI']] = df[['Glucose','BloodPressure','SkinThickness','Insulin','BMI']].replace(0,np.NaN)"
      ],
      "metadata": {
        "id": "EFZMQpRki3L1"
      },
      "execution_count": 2,
      "outputs": []
    },
    {
      "cell_type": "code",
      "source": [
        "from sklearn.preprocessing import StandardScaler\n",
        "from sklearn.impute import KNNImputer\n",
        "columns = ['Glucose', 'BloodPressure', 'SkinThickness', 'Insulin', 'BMI']\n",
        "scaler = StandardScaler()\n",
        "df_scaled = scaler.fit_transform(df[columns])\n",
        "df_scaled = pd.DataFrame(df_scaled, columns=columns)\n",
        "imputer = KNNImputer(n_neighbors=5)\n",
        "df_scaled_imputed = imputer.fit_transform(df_scaled)\n",
        "df_scaled_imputed = pd.DataFrame(df_scaled_imputed, columns=columns)\n",
        "\n",
        "df.update(df_scaled_imputed)"
      ],
      "metadata": {
        "id": "SAuI8GLji-F6"
      },
      "execution_count": 3,
      "outputs": []
    },
    {
      "cell_type": "code",
      "source": [
        "from sklearn.preprocessing import StandardScaler\n",
        "from sklearn.linear_model import LogisticRegression\n",
        "from sklearn.ensemble import RandomForestClassifier\n",
        "\n",
        "from sklearn.model_selection import train_test_split\n",
        "from sklearn.metrics import accuracy_score, confusion_matrix\n",
        "df['Outcome'] = df['Outcome'].replace({0: -1, 1: 1})\n",
        "features = df.columns.drop('Outcome')\n",
        "scaler = StandardScaler()\n",
        "df[features] = scaler.fit_transform(df[features])\n",
        "X_train, X_test, y_train, y_test = train_test_split(df[features], df['Outcome'], test_size=0.3, random_state=0)\n",
        "class_weights = {-1: 1, 1: 1}\n",
        "model = LogisticRegression(class_weight=class_weights)\n",
        "model.fit(X_train, y_train)\n",
        "y_pred = model.predict(X_test)\n",
        "accuracy = accuracy_score(y_test, y_pred)\n",
        "conf_matrix = confusion_matrix(y_test, y_pred)\n",
        "print(\"Accuracy of the Logistic Regression model:\", accuracy)\n",
        "print(\"Confusion Matrix:\\n\", conf_matrix)"
      ],
      "metadata": {
        "colab": {
          "base_uri": "https://localhost:8080/"
        },
        "id": "2bMVwtOAjB2L",
        "outputId": "b20757b0-4f68-485e-dbab-5e7ea96a1b95"
      },
      "execution_count": 4,
      "outputs": [
        {
          "output_type": "stream",
          "name": "stdout",
          "text": [
            "Accuracy of the Logistic Regression model: 0.7619047619047619\n",
            "Confusion Matrix:\n",
            " [[140  17]\n",
            " [ 38  36]]\n"
          ]
        }
      ]
    },
    {
      "cell_type": "code",
      "source": [
        "from sklearn.metrics import precision_score, recall_score, roc_curve, roc_auc_score\n",
        "import matplotlib.pyplot as plt\n",
        "precision = precision_score(y_test, y_pred)\n",
        "recall = recall_score(y_test, y_pred)\n",
        "fpr, tpr, thresholds = roc_curve(y_test, model.predict_proba(X_test)[:, 1])\n",
        "roc_auc = roc_auc_score(y_test, model.predict_proba(X_test)[:, 1])\n",
        "print(\"Accuracy:\", accuracy)\n",
        "print(\"Confusion Matrix:\\n\", conf_matrix)\n",
        "print(\"Precision:\", precision)\n",
        "print(\"Recall:\", recall)\n",
        "print(\"ROC AUC:\", roc_auc)\n",
        "plt.figure()\n",
        "plt.plot(fpr, tpr, color='darkorange', lw=2, label='ROC curve (area = %0.2f)' % roc_auc)\n",
        "plt.plot([0, 1], [0, 1], color='navy', lw=2, linestyle='--')\n",
        "plt.xlim([0.0, 1.0])\n",
        "plt.ylim([0.0, 1.05])\n",
        "plt.xlabel('False Positive Rate')\n",
        "plt.ylabel('True Positive Rate')\n",
        "plt.title('Receiver Operating Characteristic')\n",
        "plt.legend(loc=\"lower right\")\n",
        "plt.show()\n"
      ],
      "metadata": {
        "colab": {
          "base_uri": "https://localhost:8080/",
          "height": 593
        },
        "id": "dCtw3gfRjGMT",
        "outputId": "e5395725-e1ff-4cbc-dd30-107d4869cfc4"
      },
      "execution_count": 5,
      "outputs": [
        {
          "output_type": "stream",
          "name": "stdout",
          "text": [
            "Accuracy: 0.7619047619047619\n",
            "Confusion Matrix:\n",
            " [[140  17]\n",
            " [ 38  36]]\n",
            "Precision: 0.6792452830188679\n",
            "Recall: 0.4864864864864865\n",
            "ROC AUC: 0.8358581511447754\n"
          ]
        },
        {
          "output_type": "display_data",
          "data": {
            "text/plain": [
              "<Figure size 640x480 with 1 Axes>"
            ],
            "image/png": "[encoded data removed]"
          },
          "metadata": {}
        }
      ]
    },
    {
      "cell_type": "code",
      "source": [
        "feature_importance = pd.DataFrame(model.coef_[0], index=features, columns=['Coefficient'])\n",
        "print(feature_importance.sort_values(by='Coefficient', ascending=False))"
      ],
      "metadata": {
        "colab": {
          "base_uri": "https://localhost:8080/"
        },
        "id": "UntAG9ASjLwH",
        "outputId": "92b87fa7-4bf7-4819-90a3-90d2b7731d12"
      },
      "execution_count": 6,
      "outputs": [
        {
          "output_type": "stream",
          "name": "stdout",
          "text": [
            "                          Coefficient\n",
            "Glucose                      1.118121\n",
            "BMI                          0.674482\n",
            "Pregnancies                  0.315157\n",
            "Age                          0.263249\n",
            "DiabetesPedigreeFunction     0.231419\n",
            "Insulin                     -0.010861\n",
            "SkinThickness               -0.023740\n",
            "BloodPressure               -0.176782\n"
          ]
        }
      ]
    },
    {
      "cell_type": "code",
      "source": [
        "import requests\n",
        "import zipfile\n",
        "import io\n",
        "import pandas as pd\n",
        "\n",
        "zip_url = \"https://archive.ics.uci.edu/ml/machine-learning-databases/00296/dataset_diabetes.zip\"\n",
        "\n",
        "# Send a HTTP request to the URL\n",
        "response = requests.get(zip_url)\n",
        "# Check if the request was successful\n",
        "if response.status_code == 200:\n",
        "    # Open the ZIP file\n",
        "    with zipfile.ZipFile(io.BytesIO(response.content)) as thezip:\n",
        "        # Extract 'diabetic_data.csv' and load it into a DataFrame\n",
        "        with thezip.open('dataset_diabetes/diabetic_data.csv') as myfile:\n",
        "            df_actual = pd.read_csv(myfile)\n",
        "else:\n",
        "    print(\"Failed to download the file\")"
      ],
      "metadata": {
        "id": "BI57DQjljUcp"
      },
      "execution_count": 7,
      "outputs": []
    },
    {
      "cell_type": "code",
      "source": [
        "import pandas as pd\n",
        "import numpy as np\n",
        "import matplotlib.pyplot as plt\n",
        "import seaborn as sns\n",
        "\n",
        "# Fill missing values in 'A1Cresult' with 'none'\n",
        "df_actual['A1Cresult'] = df_actual['A1Cresult'].fillna('none')\n",
        "\n",
        "# Grouping primary diagnosis codes into broader categories\n",
        "def categorize_diag(diag):\n",
        "    if diag.startswith('250'):\n",
        "        return 'Diabetes'\n",
        "    elif diag.startswith(('390', '459')):\n",
        "        return 'Circulatory'\n",
        "    elif diag.startswith(('460', '519')):\n",
        "        return 'Respiratory'\n",
        "    else:\n",
        "        return 'Other'\n",
        "\n",
        "df_actual['diag_group'] = df_actual['diag_1'].apply(categorize_diag)\n",
        "\n",
        "# Bivariate Analysis: HbA1c vs Medication Change\n",
        "a1c_med_change = pd.crosstab(df_actual['A1Cresult'], df_actual['change'], normalize='index')\n",
        "print(\"\\nA1Cresult vs Medication Change:\\n\", a1c_med_change)\n",
        "\n",
        "# Analysis: Measured vs Not Measured HbA1c and Medication Change\n",
        "df_actual['A1C_measured'] = df_actual['A1Cresult'].apply(lambda x: 'Measured' if x != 'none' else 'Not Measured')\n",
        "a1c_measured_med_change = pd.crosstab(df_actual['A1C_measured'], df_actual['change'], normalize='index')\n",
        "print(\"\\nA1C Measured vs Medication Change:\\n\", a1c_measured_med_change)\n",
        "\n",
        "# Analysis: Measured vs Not Measured HbA1c and Readmission\n",
        "a1c_measured_read = pd.crosstab(df_actual['A1C_measured'], df_actual['readmitted'], normalize='index')\n",
        "print(\"\\nA1C Measured vs Readmission:\\n\", a1c_measured_read)\n",
        "\n",
        "# Trivariate Analysis: A1C Measured vs Readmission stratified by Primary Diagnosis\n",
        "a1c_measured_read_diag = pd.crosstab([df_actual['A1C_measured'], df_actual['diag_group']], df_actual['readmitted'], normalize='index')\n",
        "print(\"\\nA1C Measured vs Readmission stratified by Primary Diagnosis:\\n\", a1c_measured_read_diag)"
      ],
      "metadata": {
        "colab": {
          "base_uri": "https://localhost:8080/"
        },
        "id": "6uhQUkHvjW4I",
        "outputId": "c7e9ecf2-ec61-4267-b4c8-6d0a070518b9"
      },
      "execution_count": 8,
      "outputs": [
        {
          "output_type": "stream",
          "name": "stdout",
          "text": [
            "\n",
            "A1Cresult vs Medication Change:\n",
            " change           Ch        No\n",
            "A1Cresult                    \n",
            ">7         0.507608  0.492392\n",
            ">8         0.651047  0.348953\n",
            "Norm       0.442084  0.557916\n",
            "none       0.442736  0.557264\n",
            "\n",
            "A1C Measured vs Medication Change:\n",
            " change              Ch        No\n",
            "A1C_measured                    \n",
            "Measured      0.557645  0.442355\n",
            "Not Measured  0.442736  0.557264\n",
            "\n",
            "A1C Measured vs Readmission:\n",
            " readmitted         <30       >30        NO\n",
            "A1C_measured                              \n",
            "Measured      0.098484  0.340816  0.560700\n",
            "Not Measured  0.114233  0.350982  0.534785\n",
            "\n",
            "A1C Measured vs Readmission stratified by Primary Diagnosis:\n",
            " readmitted                     <30       >30        NO\n",
            "A1C_measured diag_group                               \n",
            "Measured     Circulatory  0.000000  0.500000  0.500000\n",
            "             Diabetes     0.095428  0.339985  0.564586\n",
            "             Other        0.099207  0.340939  0.559854\n",
            "             Respiratory  0.000000  0.142857  0.857143\n",
            "Not Measured Circulatory  0.094118  0.364706  0.541176\n",
            "             Diabetes     0.145642  0.396767  0.457590\n",
            "             Other        0.111850  0.347494  0.540656\n",
            "             Respiratory  0.128205  0.307692  0.564103\n"
          ]
        }
      ]
    }
  ]
}